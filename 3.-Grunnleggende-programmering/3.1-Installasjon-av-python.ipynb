{
 "cells": [
  {
   "cell_type": "markdown",
   "metadata": {
    "slideshow": {
     "slide_type": "fragment"
    }
   },
   "source": [
    "# Numeriske utregninger er gøy!"
   ]
  },
  {
   "cell_type": "markdown",
   "metadata": {
    "slideshow": {
     "slide_type": "fragment"
    }
   },
   "source": [
    "### En guide til prinsipper bak datavitenskap"
   ]
  },
  {
   "cell_type": "markdown",
   "metadata": {
    "slideshow": {
     "slide_type": "fragment"
    }
   },
   "source": [
    "Datavitenskap kombinerer informatikk, matematikk, statistikk og dataanalyse med anvendelser i andre fagfelt (Bio, Kjemi og Fysikk). Datavitenskap er virkelig i vinden og regnes som et av fremtidens viktigste nye fagområder. Arbeidsmarkedet er allerede svært godt!"
   ]
  },
  {
   "cell_type": "markdown",
   "metadata": {},
   "source": [
    "### Men...\n",
    "Vårt mål er å lære os verktøyet og bruke det til å forstå anvendt matematikk bedre.\n",
    "\n",
    "------------------"
   ]
  },
  {
   "cell_type": "markdown",
   "metadata": {},
   "source": [
    "# Oversikt"
   ]
  },
  {
   "cell_type": "markdown",
   "metadata": {},
   "source": [
    "<img width='400px' align='left' src='http://miriamposner.com/classes/dh101f16/wp-content/uploads/sites/5/2016/11/Python_logo.png'>"
   ]
  },
  {
   "cell_type": "markdown",
   "metadata": {},
   "source": [
    "Vi skal lær om et veldig morsomt programmeringsspråk som er lett å lære. Det heter python, Det er det mest brukte språket sammen med R når det gjelder datavitenskap. "
   ]
  },
  {
   "cell_type": "markdown",
   "metadata": {},
   "source": [
    "<img width='250px' align='left' src='https://blog.thedataincubator.com/wp-content/uploads/2017/01/jupyter-logo.png'>"
   ]
  },
  {
   "cell_type": "markdown",
   "metadata": {},
   "source": [
    "Platformen for å lære oss python, er Jupyter Lab. Det er det vi bruker nå :) \n",
    "\n",
    "Før programmerte vi ofte rett i teminalen. Så sent so når jeg studerte i 2006-2011. \n"
   ]
  },
  {
   "cell_type": "markdown",
   "metadata": {},
   "source": [
    "<img width='600px' align='left' src='https://cdn.tutsplus.com/mac/authors/legacy/Josh%20Johnson/2012/10/04/terminaltetris-3.jpg'>\n",
    "\n"
   ]
  },
  {
   "cell_type": "markdown",
   "metadata": {},
   "source": [
    "Detter var en ganske høy terskel for oss som skulle lære oss å programmere. Vi byttet så verktøy til en ekstern teksteditor og videre til en IDE. "
   ]
  },
  {
   "cell_type": "markdown",
   "metadata": {},
   "source": [
    "<img width='600px' align='left' src='http://i.imgur.com/5SOHuGW.png'>\n",
    "\n"
   ]
  },
  {
   "cell_type": "markdown",
   "metadata": {},
   "source": [
    "Jupyter Lab kombinerer mange av egenskapene til tidligere verktøy. Den gir oss også mulighet til å skrive Markdown, HTML og LaTex i cellene."
   ]
  },
  {
   "cell_type": "markdown",
   "metadata": {},
   "source": [
    "# Shift enter"
   ]
  },
  {
   "cell_type": "code",
   "execution_count": 18,
   "metadata": {},
   "outputs": [
    {
     "data": {
      "text/plain": [
       "2"
      ]
     },
     "execution_count": 18,
     "metadata": {},
     "output_type": "execute_result"
    }
   ],
   "source": [
    "1+1"
   ]
  },
  {
   "cell_type": "markdown",
   "metadata": {},
   "source": [
    "Installer python og jupyterlab med\n",
    "<a href='https://www.anaconda.com/download/'>Anaconda</a>"
   ]
  },
  {
   "cell_type": "code",
   "execution_count": null,
   "metadata": {},
   "outputs": [],
   "source": []
  }
 ],
 "metadata": {
  "kernelspec": {
   "display_name": "Python 3",
   "language": "python",
   "name": "python3"
  },
  "language_info": {
   "codemirror_mode": {
    "name": "ipython",
    "version": 3
   },
   "file_extension": ".py",
   "mimetype": "text/x-python",
   "name": "python",
   "nbconvert_exporter": "python",
   "pygments_lexer": "ipython3",
   "version": "3.7.0"
  }
 },
 "nbformat": 4,
 "nbformat_minor": 2
}
