{
 "cells": [
  {
   "cell_type": "markdown",
   "metadata": {},
   "source": [
    "# 5. Lister og plotting - Oppgaver"
   ]
  },
  {
   "cell_type": "markdown",
   "metadata": {},
   "source": [
    "#### Importerer de nødvendige bibliotekene"
   ]
  },
  {
   "cell_type": "code",
   "execution_count": 1,
   "metadata": {},
   "outputs": [],
   "source": [
    "import numpy as np\n",
    "import plotly.graph_objs as go\n",
    "import plotly.plotly as py"
   ]
  },
  {
   "cell_type": "markdown",
   "metadata": {},
   "source": [
    "## 5.1.1 Lister\n",
    "### Oppgave 5.1\n",
    "Lagtoulikelistermedbøker,TV-serier,fotballspillereellerliknende. Listene bør ha minst 5 elementer hver, men gjerne flere.\n",
    "1. Legg sammen de to listene.\n",
    "2. Slett det første og tredje elementet i den sammenslåtte lista. \n",
    "3. Finn ut hvilken indeks ett av elementene har.\n",
    "4. Lag ei ny liste av element 2–5.\n",
    "5. Finn indeksen til et av elementene og slett dette elementet. \n",
    "6. Reverser lista.\n",
    "\n",
    "#### Løsning:"
   ]
  },
  {
   "cell_type": "code",
   "execution_count": 2,
   "metadata": {},
   "outputs": [
    {
     "name": "stdout",
     "output_type": "stream",
     "text": [
      "['Forren', 'Hestad', 'Folkeopplysningen', 'Newton', 'Tord´s garasje', 'Walking dead', 'Side om side']\n",
      "['Hestad', 'Newton', 'Tord´s garasje', 'Walking dead', 'Side om side']\n",
      "['Hestad', 'Newton', 'Tord´s garasje', 'Walking dead', 'Side om side']\n",
      "['Newton', 'Tord´s garasje', 'Walking dead', 'Side om side']\n",
      "['Newton', 'Tord´s garasje', 'Side om side']\n",
      "['Side om side', 'Tord´s garasje', 'Newton']\n"
     ]
    }
   ],
   "source": [
    "fotballspillere = ['Forren', 'Hestad']\n",
    "tvserier = [\n",
    "    'Folkeopplysningen', \n",
    "    'Newton', \n",
    "    'Tord´s garasje',\n",
    "    'Walking dead',\n",
    "    'Side om side'\n",
    "]\n",
    "\n",
    "#1\n",
    "nyListe = fotballspillere + tvserier\n",
    "print(nyListe)\n",
    "\n",
    "#2\n",
    "del nyListe[0]\n",
    "del nyListe[1]\n",
    "print(nyListe)\n",
    "\n",
    "#3\n",
    "nyListe.index('Newton')\n",
    "print(nyListe)\n",
    "\n",
    "#4\n",
    "nyListe2 = nyListe[1:5]\n",
    "print(nyListe2)\n",
    "\n",
    "#5\n",
    "del nyListe2[nyListe.index('Walking dead')-1]\n",
    "print(nyListe2)\n",
    "\n",
    "#6\n",
    "nyListe2.reverse()\n",
    "print(nyListe2)"
   ]
  },
  {
   "cell_type": "markdown",
   "metadata": {},
   "source": [
    "### Oppgave 5.2\n",
    "Lag ei liste som du fyller med 100 partall.\n",
    "\n",
    "#### Løsning:"
   ]
  },
  {
   "cell_type": "code",
   "execution_count": 3,
   "metadata": {},
   "outputs": [],
   "source": [
    "liste = [x for x in range(100)]"
   ]
  },
  {
   "cell_type": "markdown",
   "metadata": {},
   "source": [
    "### Oppgave 5.3\n",
    "Lag ei liste som du fyller med tallene 1–100. Lag ei liste som du\n",
    "fyller med rota av disse tallene.\n",
    "\n",
    "#### Løsning:"
   ]
  },
  {
   "cell_type": "code",
   "execution_count": 4,
   "metadata": {},
   "outputs": [],
   "source": [
    "liste = [x for x in range(1, 101)]\n",
    "rotliste = [np.sqrt(x) for x in liste]"
   ]
  },
  {
   "cell_type": "markdown",
   "metadata": {},
   "source": [
    "### Oppgave 5.4\n"
   ]
  },
  {
   "cell_type": "code",
   "execution_count": null,
   "metadata": {},
   "outputs": [],
   "source": []
  },
  {
   "cell_type": "markdown",
   "metadata": {},
   "source": [
    "### Oppgave 5.6\n",
    "Lag ei liste med tallene 0–50. Finn og skriv ut summen av alle disse tallene ved hjelp av ei løkke. Lag så en funksjon som gjør denne jobben med ei hvilken som helst liste som input.\n",
    "#### Løsning:"
   ]
  },
  {
   "cell_type": "code",
   "execution_count": 5,
   "metadata": {},
   "outputs": [
    {
     "data": {
      "text/plain": [
       "1275"
      ]
     },
     "execution_count": 5,
     "metadata": {},
     "output_type": "execute_result"
    }
   ],
   "source": [
    "liste = [x for x in range(51)]\n",
    "sum = 0\n",
    "for x in liste:\n",
    "    sum += x\n",
    "sum"
   ]
  },
  {
   "cell_type": "markdown",
   "metadata": {},
   "source": [
    "### Oppgave 5.7\n",
    "Lag en funksjon som finner det største tallet i ei liste.\n",
    "#### Løsning:"
   ]
  },
  {
   "cell_type": "code",
   "execution_count": 6,
   "metadata": {},
   "outputs": [
    {
     "name": "stdout",
     "output_type": "stream",
     "text": [
      "[186, 187, 983, 25, 983, 770, 806, 874, 279, 481]\n"
     ]
    },
    {
     "data": {
      "text/plain": [
       "983"
      ]
     },
     "execution_count": 6,
     "metadata": {},
     "output_type": "execute_result"
    }
   ],
   "source": [
    "liste = [np.random.randint(1000) for x in range(10)]\n",
    "print(liste)\n",
    "def get_maksverdi(liste):\n",
    "    maks = -1e100\n",
    "    for x in liste:\n",
    "        if x > maks:\n",
    "            maks = x\n",
    "    return maks\n",
    "\n",
    "get_maksverdi(liste)        "
   ]
  },
  {
   "cell_type": "markdown",
   "metadata": {},
   "source": [
    "### Oppgave 5.9\n",
    "Lag et program som sjekker om ei gitt liste inneholder et partall. Dersom lista gjør det, slett elementene som er partall.\n",
    "#### Løsning:"
   ]
  },
  {
   "cell_type": "code",
   "execution_count": 7,
   "metadata": {},
   "outputs": [
    {
     "name": "stdout",
     "output_type": "stream",
     "text": [
      "[8, 509, 797, 827, 652, 530, 49, 407, 395, 508]\n"
     ]
    },
    {
     "data": {
      "text/plain": [
       "[509, 797, 827, 49, 407, 395]"
      ]
     },
     "execution_count": 7,
     "metadata": {},
     "output_type": "execute_result"
    }
   ],
   "source": [
    "liste = [np.random.randint(1000) for x in range(10)]\n",
    "print(liste)\n",
    "def get_oddetall(liste):\n",
    "    return [x for x in liste if not x%2==0]\n",
    "\n",
    "liste = get_oddetall(liste)\n",
    "liste"
   ]
  },
  {
   "cell_type": "markdown",
   "metadata": {},
   "source": [
    "### Ekstra"
   ]
  },
  {
   "cell_type": "code",
   "execution_count": 6,
   "metadata": {},
   "outputs": [],
   "source": [
    "def get_min_liste(l):\n",
    "    min = l[0]\n",
    "    for e in l:\n",
    "        if e < min:\n",
    "            min = e\n",
    "    return min"
   ]
  },
  {
   "cell_type": "code",
   "execution_count": 31,
   "metadata": {},
   "outputs": [],
   "source": [
    "def get_sortert_liste(liste):\n",
    "    l = liste.copy()\n",
    "    sortert_l = []\n",
    "    for i in range(len(l)):\n",
    "        n = get_min_liste(l)\n",
    "        sortert_l.append(n)\n",
    "        l.remove(n) \n",
    "    return sortert_l    "
   ]
  },
  {
   "cell_type": "code",
   "execution_count": 39,
   "metadata": {},
   "outputs": [
    {
     "data": {
      "text/plain": [
       "[2, 2, 6, 15]"
      ]
     },
     "execution_count": 39,
     "metadata": {},
     "output_type": "execute_result"
    }
   ],
   "source": [
    "liste = [15, 2, 2, 6]\n",
    "get_sortert_liste(liste)"
   ]
  },
  {
   "cell_type": "code",
   "execution_count": 41,
   "metadata": {},
   "outputs": [
    {
     "data": {
      "text/plain": [
       "[15, 2, 2, 6]"
      ]
     },
     "execution_count": 41,
     "metadata": {},
     "output_type": "execute_result"
    }
   ],
   "source": [
    "liste"
   ]
  },
  {
   "cell_type": "code",
   "execution_count": 46,
   "metadata": {},
   "outputs": [
    {
     "data": {
      "text/plain": [
       "[2, 2, 6, 15]"
      ]
     },
     "execution_count": 46,
     "metadata": {},
     "output_type": "execute_result"
    }
   ],
   "source": [
    "liste.sort()\n",
    "liste"
   ]
  },
  {
   "cell_type": "markdown",
   "metadata": {},
   "source": [
    "## 5.1.2 Matriser og tupler\n",
    "### Oppgave 5.17\n",
    "Lag to matriser. Fyll den ene med oddetall fra 1 til 101 og den andre\n",
    "med partall fra 0 til og med 100. Legg sammen matrisene.\n",
    "\n",
    "#### Løsning:"
   ]
  },
  {
   "cell_type": "code",
   "execution_count": null,
   "metadata": {},
   "outputs": [],
   "source": []
  },
  {
   "cell_type": "markdown",
   "metadata": {},
   "source": [
    "### Oppgave 5.18\n",
    "Et program skal regne ut c = a + b. Forklar hva c vil bli dersom \n",
    "1. a = [1,2,3,4] og b = [1,2,3,4]\n",
    "2. a = [1,2,3,4] og b = 1\n",
    "3. a = np.array([1,2,3,4]) og b = 1\n",
    "4. a = np.array([1,2,3,4]) og b = np.array([1,2,3,4])\n",
    "\n",
    "#### Løsning"
   ]
  },
  {
   "cell_type": "markdown",
   "metadata": {},
   "source": []
  },
  {
   "cell_type": "code",
   "execution_count": 8,
   "metadata": {},
   "outputs": [],
   "source": [
    "# Test koden her\n"
   ]
  },
  {
   "cell_type": "markdown",
   "metadata": {},
   "source": [
    "### Oppgave 5.22 (Matematikk R1)\n",
    "Vi har vektorene $\\vec{v} = [2,2]$ og $\\vec{w} = [1,−3]$. Avgjør om vektorene er ortogonale. Kontroller ved å regne ut for hånd.\n",
    "\n",
    "#### Løsning:"
   ]
  },
  {
   "cell_type": "code",
   "execution_count": null,
   "metadata": {},
   "outputs": [],
   "source": []
  },
  {
   "cell_type": "markdown",
   "metadata": {},
   "source": [
    "### Oppgave 5.23 (Matematikk R1)\n",
    "Vi har vektorene $\\vec{v} = [0, 2, 2]$ og $\\vec{w} = [1, 1, 2]$. Regn ut vektorproduktet av de to vektorene på to måter:\n",
    "1. Ved å regne ut determinanten.\n",
    "2. Ved å ta vektorproduktet direkte. Sammenlikn svarene med analytiske verdier.\n",
    "\n",
    "#### Løsning:"
   ]
  },
  {
   "cell_type": "code",
   "execution_count": null,
   "metadata": {},
   "outputs": [],
   "source": []
  },
  {
   "cell_type": "markdown",
   "metadata": {},
   "source": [
    "### Oppgave 5.24 (Matematikk R1)\n",
    "Programmet under regner ut lengden til vektoren $\\vec{v} = [3, 1, 2]$, altså $| \\vec{v} |$, der v er representert som lista v. Skriv om programmet slik at den gjør om lista v til en matrise, utnytter matriseoperasjoner og regner ut $| \\vec{v} |$."
   ]
  },
  {
   "cell_type": "code",
   "execution_count": null,
   "metadata": {},
   "outputs": [],
   "source": []
  },
  {
   "cell_type": "markdown",
   "metadata": {},
   "source": [
    "## 5.1.3 Plotting\n",
    "### Oppgve 5.25\n",
    "Lag plott med tittel og enheter på aksene av følgende funksjoner:\n",
    "\n",
    "<b>1.</b> $\\hspace 1em f(x)=2x+1, \\hspace 1pc D_f=[0,5]$\n",
    "bruk blå stiplet linje\n",
    "\n",
    "#### Løsning:"
   ]
  },
  {
   "cell_type": "code",
   "execution_count": 9,
   "metadata": {},
   "outputs": [
    {
     "data": {
      "application/vnd.jupyter.widget-view+json": {
       "model_id": "0909193e4c06446b9781a6b08a33b51f",
       "version_major": 2,
       "version_minor": 0
      },
      "text/plain": [
       "FigureWidget({\n",
       "    'data': [{'type': 'scatter',\n",
       "              'uid': '35038ccc-d7aa-11e8-84e2-acbc3282eaf5',\n",
       " …"
      ]
     },
     "metadata": {},
     "output_type": "display_data"
    }
   ],
   "source": [
    "x = np.linspace(0,5,)\n",
    "def f(x):\n",
    "    return 2*x + 1\n",
    "\n",
    "fig = go.FigureWidget()\n",
    "fig.add_scatter(x=x, y=f(x))\n",
    "fig"
   ]
  },
  {
   "cell_type": "code",
   "execution_count": 10,
   "metadata": {},
   "outputs": [],
   "source": [
    "fig.layout.title = 'f(x)=2x+1'\n",
    "fig.layout.xaxis.title = 'x'\n",
    "fig.layout.yaxis.title = 'f(x)'"
   ]
  },
  {
   "cell_type": "code",
   "execution_count": 11,
   "metadata": {},
   "outputs": [],
   "source": [
    "fig.layout.yaxis.title = ''"
   ]
  },
  {
   "cell_type": "markdown",
   "metadata": {},
   "source": [
    "<b>2.</b> $\\hspace 1em f(x) = x^2-3x, \\hspace 1pc v_f=[-10,150], \\hspace 1em D_f=[-10,12]$\n",
    "#### Løsning:"
   ]
  },
  {
   "cell_type": "code",
   "execution_count": 12,
   "metadata": {},
   "outputs": [
    {
     "data": {
      "application/vnd.jupyter.widget-view+json": {
       "model_id": "dbae685683dd4dc5b15888d9da65fabf",
       "version_major": 2,
       "version_minor": 0
      },
      "text/plain": [
       "FigureWidget({\n",
       "    'data': [{'type': 'scatter',\n",
       "              'uid': '3611f3f8-d7aa-11e8-97c5-acbc3282eaf5',\n",
       " …"
      ]
     },
     "metadata": {},
     "output_type": "display_data"
    }
   ],
   "source": [
    "x = np.linspace(-10,12,100)\n",
    "def f(x):\n",
    "    return x**2 - 3*x\n",
    "\n",
    "fig = go.FigureWidget()\n",
    "linje = fig.add_scatter(x=x, y=f(x))\n",
    "fig"
   ]
  },
  {
   "cell_type": "code",
   "execution_count": 13,
   "metadata": {},
   "outputs": [],
   "source": [
    "fig.layout.title = r'$$F(k) = \\int_{-\\infty}^{\\infty} f(x) e^{2\\pi i k} dx$$'\n",
    "fig.layout.xaxis.title = 'x'\n",
    "fig.layout.yaxis.title = 'f(x)'\n",
    "fig.layout.paper_bgcolor='#212121'\n",
    "fig.layout.plot_bgcolor='#212121'"
   ]
  },
  {
   "cell_type": "markdown",
   "metadata": {},
   "source": [
    "<b>3.</b> $\\hspace 1em  G(x) = 1,05^t+10$\n",
    "Funksjonen angir antall gauper etterei viss tid. Bestem definisjonsmengden selv og bruk grønne små prikker.\n",
    "\n",
    "#### Løsning:"
   ]
  },
  {
   "cell_type": "code",
   "execution_count": 17,
   "metadata": {},
   "outputs": [
    {
     "data": {
      "application/vnd.jupyter.widget-view+json": {
       "model_id": "1d0663430dab409fbabe5f767260501d",
       "version_major": 2,
       "version_minor": 0
      },
      "text/plain": [
       "FigureWidget({\n",
       "    'data': [{'type': 'scatter',\n",
       "              'uid': '9b77fe7a-d7aa-11e8-80cc-acbc3282eaf5',\n",
       " …"
      ]
     },
     "metadata": {},
     "output_type": "display_data"
    }
   ],
   "source": [
    "t = np.linspace(0, 100, 100)\n",
    "def G(x):\n",
    "    return 1.05**t + 10\n",
    "\n",
    "fig = go.FigureWidget()\n",
    "linje = fig.add_scatter(x=x, y=G(t))\n",
    "fig"
   ]
  },
  {
   "cell_type": "code",
   "execution_count": 18,
   "metadata": {},
   "outputs": [],
   "source": [
    "linje.line.color = 'green'\n",
    "linje.line.dash = 'dot'\n",
    "fig.layout.xaxis.title = 'x'\n",
    "fig.layout.yaxis.title = 'G(x)'\n",
    "fig.layout.paper_bgcolor='#212121'\n",
    "fig.layout.plot_bgcolor='#212121'"
   ]
  },
  {
   "cell_type": "markdown",
   "metadata": {},
   "source": [
    "### 5.26\n",
    "Lag et program som plotter $f(x) = x^2$ for $x ∈ [−1, 1]$. For $x < 0$, skal grafen være rød der den bruker annenhver strek og prikk. For $x ≥ 0$, skal grafen være grønn og ha små prikker.\n",
    "\n",
    "#### Løsning:"
   ]
  },
  {
   "cell_type": "code",
   "execution_count": 19,
   "metadata": {},
   "outputs": [
    {
     "data": {
      "application/vnd.jupyter.widget-view+json": {
       "model_id": "27f7c78e62e94fcb8789239938d9f076",
       "version_major": 2,
       "version_minor": 0
      },
      "text/plain": [
       "FigureWidget({\n",
       "    'data': [{'type': 'scatter',\n",
       "              'uid': '9d73e4ca-d7aa-11e8-868f-acbc3282eaf5',\n",
       " …"
      ]
     },
     "metadata": {},
     "output_type": "display_data"
    }
   ],
   "source": [
    "def f(x):\n",
    "    return x**2\n",
    "\n",
    "x1 = np.linspace(-1, 0, 100)\n",
    "x2 = np.linspace(0, 1, 100)\n",
    "fig = go.FigureWidget()\n",
    "linje1 = fig.add_scatter(x=x1, y=f(x1))\n",
    "linje2 = fig.add_scatter(x=x2, y=f(x2))\n",
    "fig"
   ]
  },
  {
   "cell_type": "code",
   "execution_count": 20,
   "metadata": {},
   "outputs": [],
   "source": [
    "linje1.line.color = 'red'\n",
    "linje2.line.color = 'green'\n",
    "linje1.line.dash = 'longdashdot'\n",
    "linje2.line.dash = 'dot'\n",
    "fig.layout.xaxis.title = 'x'\n",
    "fig.layout.yaxis.title = 'f(x)'\n",
    "linje1.name = 'f(x), x< 0'\n",
    "linje2.name = 'f(x), x >= 0'\n",
    "fig.layout.paper_bgcolor='#212121'\n",
    "fig.layout.plot_bgcolor='#212121'"
   ]
  },
  {
   "cell_type": "markdown",
   "metadata": {},
   "source": [
    "### Oppgave 5.27 (Matematikk R1)\n",
    "Et fly har en bane som følger vektorfunksjonen $[3t^3 , 2t + 5]$. Plott x- og y-komponentene for $t ∈ [0, 12]$.\n",
    "#### Løsning:"
   ]
  },
  {
   "cell_type": "code",
   "execution_count": 21,
   "metadata": {},
   "outputs": [
    {
     "data": {
      "application/vnd.jupyter.widget-view+json": {
       "model_id": "1c5be719c0664eee9d1180f0a27d5c18",
       "version_major": 2,
       "version_minor": 0
      },
      "text/plain": [
       "FigureWidget({\n",
       "    'data': [{'type': 'scatter',\n",
       "              'uid': '0938eaac-d7ab-11e8-a0d2-acbc3282eaf5',\n",
       " …"
      ]
     },
     "metadata": {},
     "output_type": "display_data"
    }
   ],
   "source": [
    "t = np.linspace(0, 12, 100)\n",
    "vf = np.array([3*t**3, 2*t+5])\n",
    "fig = go.FigureWidget()\n",
    "fig.add_scatter(x=vf[0,:], y=vf[1,:])\n",
    "fig.layout.paper_bgcolor='#212121'\n",
    "fig.layout.plot_bgcolor='#212121'\n",
    "fig"
   ]
  },
  {
   "cell_type": "code",
   "execution_count": null,
   "metadata": {},
   "outputs": [],
   "source": []
  },
  {
   "cell_type": "markdown",
   "metadata": {},
   "source": [
    "### Oppgave 5.29\n",
    "Dersom en person tar medisin, vil konsentrasjonen av medisinen i blodet avta over tid. En modell for hvor mye konsentrasjon $K(t)$ av medisinen som vil være igjen etter $t$ timer, er\n",
    "\n",
    "$$K(t)=K_0e^{-at}$$\n",
    "\n",
    "der $K_0$ er konsentrasjonen av medisinen personen har i blodet med en gang etter å ha tatt medisinen i mg/l. Verdien til a forteller oss hvor mye av medisinen som avtar per time. Lag et program som plotter $K(t)$ for $K_0 = 4.73$mg/l og $a = 0.65$ i løpet av $48$ timer. Husk å ha med tittel og enheter på aksene.\n",
    "\n",
    "#### Løsning:"
   ]
  },
  {
   "cell_type": "code",
   "execution_count": null,
   "metadata": {},
   "outputs": [],
   "source": []
  },
  {
   "cell_type": "markdown",
   "metadata": {},
   "source": [
    "### Oppgave 5.30 (Fysikk)\n",
    "Når et legeme er i fritt fall, vil den mekaniske energien være bevart, det vil si at verdien til energien er den samme for alle tider t. Den mekaniske energien E(t) ved ei tid t er gitt som\n",
    "\n",
    "$$E(t)=E_K(t)+E_p(t)$$\n",
    "\n",
    "der $E_k(t)=\\frac{1}{2}mv(t)^2$ er den kinetiske energien ved ei tid $t$ og $E_p(t)=mgy(t)$ er den potensielle energien ved ei tid $t$. Dersom et legeme slippes fra en klippe som er $33$ meter høy, kan høyden y(t) og farten v(t) uttrykkes som:\n",
    "\n",
    "\n",
    "\\begin{align*} \n",
    "    y(t) & = - \\frac12 gt^2 + 33 \\\\\n",
    "    v(t) & = −gt\n",
    "\\end{align*}\n",
    "\n",
    "Du kan anta at legemet har masse $m = 2.75$kg og bruke at $g = 9.81$m/s$^2$.\n",
    "Lag et program som beregner den kinetiske energien og den potensielle energien􏰇\n",
    "der $t∈[0, \\sqrt{\\frac{66}{g}}]$.\n",
    "\n",
    "#### Løsning:"
   ]
  },
  {
   "cell_type": "code",
   "execution_count": 107,
   "metadata": {},
   "outputs": [],
   "source": [
    "fig.layout.title = 'Nytt navn'"
   ]
  },
  {
   "cell_type": "code",
   "execution_count": null,
   "metadata": {},
   "outputs": [],
   "source": []
  },
  {
   "cell_type": "markdown",
   "metadata": {},
   "source": [
    "### 5.31 \n",
    "\n",
    "En generelle sinusfunksjonen har formen: \n",
    "\n",
    "$$f(x) = A \\sin(kx+\\phi) + d$$\n",
    "\n",
    "der A er amplituden, k bidrar til å bestemme perioden til sinusfunksjonen, φ er en faseforskyving og d er likevektslinja.\n",
    "Skriv et program som plotter tre forskjellige sinusfunksjoner der $x ∈ [0,2π]$. Du kan selv velge hvilke verdier for A, k, φ og d du vil bruke. Bruk subplot til å plotte sinusfunksjonene ved sida av eller under hverandre. Husk å ha med tittel for hvert plott for å kunne skille mellom dem. Pass også på å ha nok verdier for x slik at kurvene blir glatte!\n",
    "\n",
    "#### Løsning:"
   ]
  },
  {
   "cell_type": "code",
   "execution_count": null,
   "metadata": {},
   "outputs": [],
   "source": []
  },
  {
   "cell_type": "markdown",
   "metadata": {},
   "source": [
    "### 5.33\n",
    "\n",
    "En lakseoppdretter bruker $K(x) = −50x^2 − 420x − 50$ kr for å få $x$ kg laks. Oppdretteren selger laksen til 84 kr/kg, altså er $I(x) = 84x$. Profitten $P(x)$ oppdretteren får etter å ha solgt $x$ kilo med laks, er $P(x) = inntekt − kostnad = I(x)−K(x)$ kr.\n",
    "\n",
    "**a)** Lag et program som finner den største profitten oppdretteren kan få for 1000 jevnt fordelte verdier av $x$ der $x ∈ [0, 15]$.\n",
    "\n",
    "#### Løsning"
   ]
  },
  {
   "cell_type": "code",
   "execution_count": null,
   "metadata": {},
   "outputs": [],
   "source": []
  },
  {
   "cell_type": "markdown",
   "metadata": {},
   "source": [
    "**b)** Utvid programmet fra a) slik at den også finner ved hvilken verdi av xmaks oppdretteren får størst profitt. Plott punktet (xmaks,P(xmaks)) sammen med grafen for P(x) for å se om verdien for xmaks gir mening.\n",
    "\n",
    "#### Løsning"
   ]
  },
  {
   "cell_type": "code",
   "execution_count": null,
   "metadata": {},
   "outputs": [],
   "source": []
  },
  {
   "cell_type": "markdown",
   "metadata": {},
   "source": [
    "### Oppgave 5.34\n",
    "\n",
    "Et program lager følgende plott:\n",
    "\n",
    "<img src=\"plot.png\" width=\"400px\">\n",
    "\n",
    "Skriv et program som lager samme plott.\n",
    "\n",
    "#### Løsning:"
   ]
  },
  {
   "cell_type": "code",
   "execution_count": null,
   "metadata": {},
   "outputs": [],
   "source": []
  }
 ],
 "metadata": {
  "kernelspec": {
   "display_name": "Python 3",
   "language": "python",
   "name": "python3"
  },
  "language_info": {
   "codemirror_mode": {
    "name": "ipython",
    "version": 3
   },
   "file_extension": ".py",
   "mimetype": "text/x-python",
   "name": "python",
   "nbconvert_exporter": "python",
   "pygments_lexer": "ipython3",
   "version": "3.6.6"
  }
 },
 "nbformat": 4,
 "nbformat_minor": 2
}
