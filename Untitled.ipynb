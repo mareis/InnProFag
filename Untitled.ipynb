{
 "cells": [
  {
   "cell_type": "markdown",
   "metadata": {},
   "source": [
    "I en kirke sitter presten og klokkeren og snakker med tre kvinner (Du får vite at kvinnene alle har en alder mellom 1 og 100 år). Etter en tid takker kvinnene for seg, og presten og klokkeren blir sittende. \"Vet du hvor gamle de kvinnene var?\" spør presten. \"Nei, det gjør jeg ikke,\" sier klokkeren. \"Jeg kan si deg så mye som at produktet av aldrene deres var 2450, og at summen av aldrene deres var det dobbelte av alderen din,\" sier presten. \n",
    "\n",
    "Klokkeren grubler over dette til neste dag, og blir da spurt av presten om han har funnet ut av det ennå. Klokkeren må svare nei på dette. \"Da kan jeg kanskje også fortelle deg at av oss fem var jeg den eldste,\" sier presten. \"Å ja,\" sier klokkeren, \"da er det jo lett!\". \n",
    "\n",
    "Hvor gammel er presten?\n"
   ]
  },
  {
   "cell_type": "code",
   "execution_count": 5,
   "metadata": {},
   "outputs": [],
   "source": [
    "from sympy import *\n",
    "init_printing()\n",
    "%matplotlib inline\n",
    "a, b, c, d, e = symbols('a, b, c, d, e', integer=True)"
   ]
  },
  {
   "cell_type": "code",
   "execution_count": 6,
   "metadata": {},
   "outputs": [],
   "source": [
    "x_1 = solve(a*b*c-2450)\n"
   ]
  },
  {
   "cell_type": "code",
   "execution_count": null,
   "metadata": {},
   "outputs": [],
   "source": []
  }
 ],
 "metadata": {
  "kernelspec": {
   "display_name": "Python 3",
   "language": "python",
   "name": "python3"
  },
  "language_info": {
   "codemirror_mode": {
    "name": "ipython",
    "version": 3
   },
   "file_extension": ".py",
   "mimetype": "text/x-python",
   "name": "python",
   "nbconvert_exporter": "python",
   "pygments_lexer": "ipython3",
   "version": "3.7.3"
  }
 },
 "nbformat": 4,
 "nbformat_minor": 2
}
