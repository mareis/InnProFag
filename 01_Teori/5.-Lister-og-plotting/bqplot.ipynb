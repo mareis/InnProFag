{
 "cells": [
  {
   "cell_type": "markdown",
   "metadata": {},
   "source": [
    "# bqplot\n",
    "<a href='https://bqplot.readthedocs.io/en/latest/'>Dokumentasjon</a>"
   ]
  },
  {
   "cell_type": "markdown",
   "metadata": {},
   "source": [
    "### Eksempel 1"
   ]
  },
  {
   "cell_type": "code",
   "execution_count": 30,
   "metadata": {},
   "outputs": [],
   "source": [
    "import numpy as np\n",
    "import bqplot.pyplot as plt"
   ]
  },
  {
   "cell_type": "markdown",
   "metadata": {},
   "source": [
    "**Definerer x og y**"
   ]
  },
  {
   "cell_type": "code",
   "execution_count": 31,
   "metadata": {},
   "outputs": [],
   "source": [
    "x = np.arange(1,8)\n",
    "y = np.array([2, 1, 4, 3, 10, 20, 3])"
   ]
  },
  {
   "cell_type": "markdown",
   "metadata": {},
   "source": [
    "**Lager plottet**"
   ]
  },
  {
   "cell_type": "code",
   "execution_count": 38,
   "metadata": {},
   "outputs": [
    {
     "data": {
      "application/vnd.jupyter.widget-view+json": {
       "model_id": "73cd945027434705a0db8b5f42ea31b1",
       "version_major": 2,
       "version_minor": 0
      },
      "text/plain": [
       "VBox(children=(Figure(axes=[Axis(scale=LinearScale()), Axis(orientation='vertical', scale=LinearScale())], fig…"
      ]
     },
     "metadata": {},
     "output_type": "display_data"
    }
   ],
   "source": [
    "plt.figure(title='Eksempel 1')\n",
    "plt.plot(x, y)\n",
    "plt.show()"
   ]
  },
  {
   "cell_type": "markdown",
   "metadata": {},
   "source": [
    "### Eksempel 2"
   ]
  },
  {
   "cell_type": "code",
   "execution_count": 39,
   "metadata": {},
   "outputs": [],
   "source": [
    "import numpy as np\n",
    "import bqplot as bq"
   ]
  },
  {
   "cell_type": "code",
   "execution_count": 40,
   "metadata": {},
   "outputs": [],
   "source": [
    "def f(t):\n",
    "    return np.exp(-t)*np.sin(2*np.pi*t)"
   ]
  },
  {
   "cell_type": "code",
   "execution_count": 41,
   "metadata": {},
   "outputs": [],
   "source": [
    "def g(t):\n",
    "    return np.exp(-t)*np.cos(2*np.pi*t)"
   ]
  },
  {
   "cell_type": "code",
   "execution_count": 42,
   "metadata": {},
   "outputs": [],
   "source": [
    "t = np.arange(0, 5, 0.02)"
   ]
  },
  {
   "cell_type": "code",
   "execution_count": 47,
   "metadata": {},
   "outputs": [],
   "source": [
    "fig2 = plt.figure(title='Eksempel 2')\n",
    "plot1 = plt.plot(t, f(t))  \n",
    "plot2 = plt.plot(t, g(t))\n",
    "plot2.colors=['#E0671F']"
   ]
  },
  {
   "cell_type": "code",
   "execution_count": 48,
   "metadata": {},
   "outputs": [
    {
     "data": {
      "application/vnd.jupyter.widget-view+json": {
       "model_id": "da97613dff5745ed9f6ffe58590dba21",
       "version_major": 2,
       "version_minor": 0
      },
      "text/plain": [
       "Figure(animation_duration=1000, axes=[Axis(scale=LinearScale(), side='bottom'), Axis(orientation='vertical', s…"
      ]
     },
     "metadata": {},
     "output_type": "display_data"
    }
   ],
   "source": [
    "fig2.animation_duration = 1000\n",
    "fig2"
   ]
  },
  {
   "cell_type": "code",
   "execution_count": null,
   "metadata": {},
   "outputs": [],
   "source": []
  },
  {
   "cell_type": "code",
   "execution_count": null,
   "metadata": {},
   "outputs": [],
   "source": []
  },
  {
   "cell_type": "code",
   "execution_count": 28,
   "metadata": {},
   "outputs": [],
   "source": [
    "import datetime as dt"
   ]
  },
  {
   "cell_type": "code",
   "execution_count": 29,
   "metadata": {},
   "outputs": [
    {
     "data": {
      "application/vnd.jupyter.widget-view+json": {
       "model_id": "a73f654ce77a4318803da5698e12077a",
       "version_major": 2,
       "version_minor": 0
      },
      "text/plain": [
       "VBox(children=(Figure(axes=[Axis(scale=DateScale()), Axis(orientation='vertical', scale=LinearScale())], fig_m…"
      ]
     },
     "metadata": {},
     "output_type": "display_data"
    }
   ],
   "source": [
    "dates = np.arange(dt.datetime(2014, 1, 2), dt.datetime(2014, 1, 30), dt.timedelta(days=1))\n",
    "\n",
    "prices = np.array([[ 187.21  ,  187.4   ,  185.2   ,  185.53  ],\n",
    "       [ 185.83  ,  187.35  ,  185.3   ,  186.64  ],\n",
    "       [ 187.15  ,  187.355 ,  185.3   ,  186.    ],\n",
    "       [ 186.39  ,  190.35  ,  186.38  ,  189.71  ],\n",
    "       [ 189.33  ,  189.4175,  187.26  ,  187.97  ],\n",
    "       [ 189.02  ,  189.5   ,  186.55  ,  187.38  ],\n",
    "       [ 188.31  ,  188.57  ,  186.28  ,  187.26  ],\n",
    "       [ 186.26  ,  186.95  ,  183.86  ,  184.16  ],\n",
    "       [ 185.06  ,  186.428 ,  183.8818,  185.92  ],\n",
    "       [ 185.82  ,  188.65  ,  185.49  ,  187.74  ],\n",
    "       [ 187.53  ,  188.99  ,  186.8   ,  188.76  ],\n",
    "       [ 188.04  ,  190.81  ,  187.86  ,  190.09  ],\n",
    "       [ 190.23  ,  190.39  ,  186.79  ,  188.43  ],\n",
    "       [ 181.28  ,  183.5   ,  179.67  ,  182.25  ],\n",
    "       [ 181.43  ,  183.72  ,  180.71  ,  182.73  ],\n",
    "       [ 181.25  ,  182.8141,  179.64  ,  179.64  ],\n",
    "       [ 179.605 ,  179.65  ,  177.66  ,  177.9   ],\n",
    "       [ 178.05  ,  178.45  ,  176.16  ,  176.85  ],\n",
    "       [ 175.98  ,  178.53  ,  175.89  ,  176.4   ],\n",
    "       [ 177.17  ,  177.86  ,  176.36  ,  177.36  ]])\n",
    "\n",
    "plt.figure()\n",
    "plt.ohlc(dates, prices)\n",
    "plt.show()"
   ]
  },
  {
   "cell_type": "code",
   "execution_count": null,
   "metadata": {},
   "outputs": [],
   "source": []
  },
  {
   "cell_type": "code",
   "execution_count": null,
   "metadata": {},
   "outputs": [],
   "source": []
  },
  {
   "cell_type": "code",
   "execution_count": null,
   "metadata": {},
   "outputs": [],
   "source": []
  },
  {
   "cell_type": "code",
   "execution_count": null,
   "metadata": {},
   "outputs": [],
   "source": []
  },
  {
   "cell_type": "code",
   "execution_count": null,
   "metadata": {},
   "outputs": [],
   "source": []
  },
  {
   "cell_type": "code",
   "execution_count": 49,
   "metadata": {},
   "outputs": [
    {
     "data": {
      "application/vnd.jupyter.widget-view+json": {
       "model_id": "4a3355b6286d4bbd9d54d96920c60060",
       "version_major": 2,
       "version_minor": 0
      },
      "text/plain": [
       "FigureWidget({\n",
       "    'data': [{'type': 'histogram2dcontour',\n",
       "              'uid': '5c93c666-e121-11e8-9701-acbc3…"
      ]
     },
     "metadata": {},
     "output_type": "display_data"
    }
   ],
   "source": [
    "import plotly.graph_objs as go\n",
    "import numpy as np\n",
    "x = np.random.randn(1000)\n",
    "y = np.random.randn(1000)\n",
    "go.FigureWidget(data=[{'x': x, 'y': y, 'type': 'histogram2dcontour'}])"
   ]
  },
  {
   "cell_type": "code",
   "execution_count": null,
   "metadata": {},
   "outputs": [],
   "source": []
  }
 ],
 "metadata": {
  "kernelspec": {
   "display_name": "Python 3",
   "language": "python",
   "name": "python3"
  },
  "language_info": {
   "codemirror_mode": {
    "name": "ipython",
    "version": 3
   },
   "file_extension": ".py",
   "mimetype": "text/x-python",
   "name": "python",
   "nbconvert_exporter": "python",
   "pygments_lexer": "ipython3",
   "version": "3.6.6"
  }
 },
 "nbformat": 4,
 "nbformat_minor": 2
}
