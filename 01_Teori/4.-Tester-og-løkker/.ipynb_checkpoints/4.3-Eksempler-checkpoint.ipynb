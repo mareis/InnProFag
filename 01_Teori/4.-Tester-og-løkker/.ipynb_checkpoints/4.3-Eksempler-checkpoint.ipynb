{
 "cells": [
  {
   "cell_type": "markdown",
   "metadata": {},
   "source": [
    "# Løkkeeksempler\n",
    "\n",
    "**Eksempel 1**\n",
    "\n",
    "$$\\sum_{n=1}^5 (5n - 4)$$\n",
    "\n",
    "Lag en for-løkke som løser summen over."
   ]
  },
  {
   "cell_type": "code",
   "execution_count": 5,
   "metadata": {},
   "outputs": [
    {
     "name": "stdout",
     "output_type": "stream",
     "text": [
      "Summen er 55\n"
     ]
    }
   ],
   "source": [
    "N = 5\n",
    "sum = 0\n",
    "for n in range(1,N+1):\n",
    "    sum += 5*n - 4\n",
    "    #print(sum)\n",
    "    \n",
    "print(f'Summen er {sum}')"
   ]
  },
  {
   "cell_type": "markdown",
   "metadata": {},
   "source": [
    "**Eksempel 2**\n",
    "$$\\sum_{x=3}^6 (x^2 - 2^x)$$\n",
    "\n",
    "Lag en for-løkke som løser summen over."
   ]
  },
  {
   "cell_type": "code",
   "execution_count": 80,
   "metadata": {},
   "outputs": [
    {
     "name": "stdout",
     "output_type": "stream",
     "text": [
      "Summen er -34\n"
     ]
    }
   ],
   "source": [
    "N = 6\n",
    "sum = 0\n",
    "for x in range(3, N+1):\n",
    "    sum += x**2 - 2**x\n",
    "    #print(sum)\n",
    "print(f'Summen er {sum}')"
   ]
  },
  {
   "cell_type": "markdown",
   "metadata": {},
   "source": [
    "### Fakultetfunskjon\n",
    "\n",
    "$$N! = \\prod_{n=1}^N n$$\n",
    "\n",
    "Lag en funksjon som returnerer fakultetet til tallet"
   ]
  },
  {
   "cell_type": "code",
   "execution_count": 83,
   "metadata": {},
   "outputs": [
    {
     "name": "stdout",
     "output_type": "stream",
     "text": [
      "3! = 6\n"
     ]
    }
   ],
   "source": [
    "def fakultet(N):\n",
    "    produkt = 1\n",
    "    for n in range(1, N+1):\n",
    "        produkt *= n\n",
    "    return produkt\n",
    "\n",
    "N = 3\n",
    "print(f'{N}! = {fakultet(N)}')\n"
   ]
  },
  {
   "cell_type": "markdown",
   "metadata": {},
   "source": [
    "Lag et program som skriver ut en tabell med kolonnene n og n!"
   ]
  },
  {
   "cell_type": "code",
   "execution_count": 85,
   "metadata": {},
   "outputs": [
    {
     "name": "stdout",
     "output_type": "stream",
     "text": [
      "—————————————————————————\n",
      "|   n    | fakultet (n!)|\n",
      "—————————————————————————\n",
      "|   1    |            1 |\n",
      "|   2    |            2 |\n",
      "|   3    |            6 |\n",
      "|   4    |           24 |\n",
      "|   5    |          120 |\n",
      "|   6    |          720 |\n",
      "|   7    |         5040 |\n",
      "|   8    |        40320 |\n",
      "|   9    |       362880 |\n",
      "|  10    |      3628800 |\n",
      "—————————————————————————\n"
     ]
    }
   ],
   "source": [
    "N = 10\n",
    "linje = '—————————————————————————'\n",
    "print(linje)\n",
    "print(f'|{\"n\":^7} | fakultet (n!)|')\n",
    "print(linje)\n",
    "produkt = 1\n",
    "for n in range(1, N+1):\n",
    "    produkt *= n\n",
    "    print(f'|{n:^7} | {produkt:12} |')\n",
    "print(linje)  "
   ]
  },
  {
   "cell_type": "code",
   "execution_count": 10,
   "metadata": {},
   "outputs": [
    {
     "name": "stdout",
     "output_type": "stream",
     "text": [
      "———————————————————————\n",
      "| grader  | radianer  |\n",
      "———————————————————————\n",
      "|    0    |   0.00    |\n",
      "|   10    |   0.17    |\n",
      "|   20    |   0.35    |\n",
      "|   30    |   0.52    |\n",
      "|   40    |   0.70    |\n",
      "|   50    |   0.87    |\n",
      "|   60    |   1.05    |\n",
      "|   70    |   1.22    |\n",
      "|   80    |   1.40    |\n",
      "|   90    |   1.57    |\n",
      "|   100   |   1.75    |\n",
      "|   110   |   1.92    |\n",
      "|   120   |   2.09    |\n",
      "|   130   |   2.27    |\n",
      "|   140   |   2.44    |\n",
      "|   150   |   2.62    |\n",
      "|   160   |   2.79    |\n",
      "|   170   |   2.97    |\n",
      "|   180   |   3.14    |\n",
      "———————————————————————\n"
     ]
    }
   ],
   "source": [
    "import numpy as np\n",
    "linje = '———————————————————————'\n",
    "print(linje)\n",
    "print(f'| {\"grader\":^7} | {\"radianer\":^9} |')\n",
    "print(linje)\n",
    "for i in range(0, 181, 10):\n",
    "    radianer = np.deg2rad(i)\n",
    "    print(f'| {i:^7.0f} | {radianer:^9.2f} |')\n",
    "\n",
    "print(linje)"
   ]
  },
  {
   "cell_type": "markdown",
   "metadata": {},
   "source": [
    "# Rekker\n",
    "$$1+\\frac23+\\frac49+\\frac{8}{27}+...$$\n",
    "\n",
    "Finn summen av den geometriske rekken over\n",
    "\n",
    "$$\\sum_0^\\infty (\\frac23)^n$$"
   ]
  },
  {
   "cell_type": "code",
   "execution_count": 11,
   "metadata": {},
   "outputs": [
    {
     "name": "stdout",
     "output_type": "stream",
     "text": [
      "3.0000000000\n"
     ]
    }
   ],
   "source": [
    "N = 10**6 #Antall tall i rekken vi summerer\n",
    "sum = 0\n",
    "for n in range(0, N, 1):\n",
    "    sum += (2/3)**n\n",
    "\n",
    "print(f'{sum:.10f}')"
   ]
  },
  {
   "cell_type": "markdown",
   "metadata": {},
   "source": [
    "## Nestede løkker"
   ]
  },
  {
   "cell_type": "code",
   "execution_count": 21,
   "metadata": {},
   "outputs": [
    {
     "name": "stdout",
     "output_type": "stream",
     "text": [
      "ytre løkke\n",
      "  indre løkke\n",
      "  indre løkke\n",
      "  indre løkke\n",
      "ytre løkke\n",
      "  indre løkke\n",
      "  indre løkke\n",
      "  indre løkke\n",
      "ytre løkke\n",
      "  indre løkke\n",
      "  indre løkke\n",
      "  indre løkke\n",
      "ytre løkke\n",
      "  indre løkke\n",
      "  indre løkke\n",
      "  indre løkke\n",
      "ytre løkke\n",
      "  indre løkke\n",
      "  indre løkke\n",
      "  indre løkke\n"
     ]
    }
   ],
   "source": [
    "for i in range(5):\n",
    "    print('ytre løkke')\n",
    "    for j in range(3):\n",
    "        print('  indre løkke')"
   ]
  },
  {
   "cell_type": "code",
   "execution_count": null,
   "metadata": {},
   "outputs": [],
   "source": []
  }
 ],
 "metadata": {
  "kernelspec": {
   "display_name": "Python 3",
   "language": "python",
   "name": "python3"
  },
  "language_info": {
   "codemirror_mode": {
    "name": "ipython",
    "version": 3
   },
   "file_extension": ".py",
   "mimetype": "text/x-python",
   "name": "python",
   "nbconvert_exporter": "python",
   "pygments_lexer": "ipython3",
   "version": "3.7.1"
  }
 },
 "nbformat": 4,
 "nbformat_minor": 2
}
