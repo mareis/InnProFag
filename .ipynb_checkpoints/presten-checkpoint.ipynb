{
 "cells": [
  {
   "cell_type": "markdown",
   "metadata": {},
   "source": [
    "# Presten\n",
    "\n",
    "I en kirke sitter presten og klokkeren og snakker med tre kvinner (Du får vite at kvinnene alle har en alder mellom 1 og 100 år). Etter en tid takker kvinnene for seg, og presten og klokkeren blir sittende. \"Vet du hvor gamle de kvinnene var?\" spør presten. \"Nei, det gjør jeg ikke,\" sier klokkeren. \"Jeg kan si deg så mye som at produktet av aldrene deres var 2450, og at summen av aldrene deres var det dobbelte av alderen din,\" sier presten. \n",
    "\n",
    "Klokkeren grubler over dette til neste dag, og blir da spurt av presten om han har funnet ut av det ennå. Klokkeren må svare nei på dette. \"Da kan jeg kanskje også fortelle deg at av oss fem var jeg den eldste,\" sier presten. \"Å ja,\" sier klokkeren, \"da er det jo lett!\". \n",
    "\n",
    "Hvor gammel er presten?\n",
    "\n",
    "### Løsning\n",
    "\n",
    "Starter med å finne alle faktorene som gir produktet 2450"
   ]
  },
  {
   "cell_type": "code",
   "execution_count": 1,
   "metadata": {},
   "outputs": [],
   "source": [
    "import numpy as np\n",
    "\n",
    "abc = []\n",
    "for a in range(1,100):\n",
    "    for b in range(1, 100):\n",
    "        for c in range(1, 100):\n",
    "            if a*b*c == 2450:\n",
    "                t = [a,b,c]\n",
    "                abc.append(t) \n",
    "                \n",
    "abc = np.array(abc)             "
   ]
  },
  {
   "cell_type": "markdown",
   "metadata": {},
   "source": [
    "Sorterer så arrayet for lettere å fjerne alle kombinasjoner som ikke er unike"
   ]
  },
  {
   "cell_type": "code",
   "execution_count": 2,
   "metadata": {},
   "outputs": [
    {
     "data": {
      "text/plain": [
       "array([[ 1, 25, 98],\n",
       "       [ 1, 35, 70],\n",
       "       [ 1, 49, 50],\n",
       "       [ 2, 25, 49],\n",
       "       [ 2, 35, 35],\n",
       "       [ 5,  5, 98],\n",
       "       [ 5,  7, 70],\n",
       "       [ 5, 10, 49],\n",
       "       [ 5, 14, 35],\n",
       "       [ 7,  7, 50],\n",
       "       [ 7, 10, 35],\n",
       "       [ 7, 14, 25]])"
      ]
     },
     "execution_count": 2,
     "metadata": {},
     "output_type": "execute_result"
    }
   ],
   "source": [
    "abc.sort()\n",
    "abc_redusert = np.unique(abc, axis=0)\n",
    "abc_redusert"
   ]
  },
  {
   "cell_type": "markdown",
   "metadata": {},
   "source": [
    "Vi finner så summen av de resterende alderene til kvinnene. "
   ]
  },
  {
   "cell_type": "code",
   "execution_count": 3,
   "metadata": {},
   "outputs": [
    {
     "data": {
      "text/plain": [
       "array([124, 106, 100,  76,  72, 108,  82,  64,  54,  64,  52,  46])"
      ]
     },
     "execution_count": 3,
     "metadata": {},
     "output_type": "execute_result"
    }
   ],
   "source": [
    "abc_sum = np.sum(abc_redusert, axis=1)\n",
    "abc_sum"
   ]
  },
  {
   "cell_type": "code",
   "execution_count": 4,
   "metadata": {},
   "outputs": [
    {
     "data": {
      "text/plain": [
       "array([64])"
      ]
     },
     "execution_count": 4,
     "metadata": {},
     "output_type": "execute_result"
    }
   ],
   "source": [
    "u, c = np.unique(abc_sum, return_counts=True)\n",
    "dup = u[c > 1]\n",
    "dup"
   ]
  },
  {
   "cell_type": "markdown",
   "metadata": {},
   "source": [
    "Vi kan nå anta at den eneste kombinasjonen av aldere som gjør at kokken blir usikker må være 64. Kokke må da være 32"
   ]
  },
  {
   "cell_type": "markdown",
   "metadata": {},
   "source": [
    "For å finne prestens alter må vi se på alderene som gir summen 64"
   ]
  },
  {
   "cell_type": "code",
   "execution_count": 5,
   "metadata": {},
   "outputs": [
    {
     "name": "stdout",
     "output_type": "stream",
     "text": [
      "[ 5 10 49]\n",
      "[ 7  7 50]\n"
     ]
    }
   ],
   "source": [
    "for alternativ in abc_redusert:\n",
    "    if sum(alternativ) == dup[0]:\n",
    "        print(alternativ)\n",
    "        "
   ]
  },
  {
   "cell_type": "markdown",
   "metadata": {},
   "source": [
    "Den eneste alder til presten som hjelper er hvis en av alternativene blur luket bort. Presten må derfor være **50 år**."
   ]
  },
  {
   "cell_type": "code",
   "execution_count": null,
   "metadata": {},
   "outputs": [],
   "source": []
  }
 ],
 "metadata": {
  "kernelspec": {
   "display_name": "Python 3",
   "language": "python",
   "name": "python3"
  },
  "language_info": {
   "codemirror_mode": {
    "name": "ipython",
    "version": 3
   },
   "file_extension": ".py",
   "mimetype": "text/x-python",
   "name": "python",
   "nbconvert_exporter": "python",
   "pygments_lexer": "ipython3",
   "version": "3.7.3"
  }
 },
 "nbformat": 4,
 "nbformat_minor": 2
}
