{
 "cells": [
  {
   "cell_type": "code",
   "execution_count": 44,
   "metadata": {},
   "outputs": [
    {
     "name": "stdout",
     "output_type": "stream",
     "text": [
      "CPU times: user 1min 35s, sys: 321 ms, total: 1min 35s\n",
      "Wall time: 1min 35s\n"
     ]
    }
   ],
   "source": [
    "%%time\n",
    "primtallene = [2, 3]\n",
    "primtall = True\n",
    "for x in range(2, 100000): \n",
    "    for i in primtallene:\n",
    "        if x % i == 0:\n",
    "            primtall = False\n",
    "    if primtall: \n",
    "        for j in range(len(primtallene), x):\n",
    "            if x % j == 0:\n",
    "                primtall = False        \n",
    "    if primtall:\n",
    "        primtallene.append(x)\n",
    "    \n",
    "    primtall = True\n",
    "        \n",
    "#print(primtallene)"
   ]
  },
  {
   "cell_type": "code",
   "execution_count": null,
   "metadata": {},
   "outputs": [],
   "source": []
  },
  {
   "cell_type": "code",
   "execution_count": null,
   "metadata": {},
   "outputs": [],
   "source": []
  }
 ],
 "metadata": {
  "kernelspec": {
   "display_name": "Python 3",
   "language": "python",
   "name": "python3"
  },
  "language_info": {
   "codemirror_mode": {
    "name": "ipython",
    "version": 3
   },
   "file_extension": ".py",
   "mimetype": "text/x-python",
   "name": "python",
   "nbconvert_exporter": "python",
   "pygments_lexer": "ipython3",
   "version": "3.6.6"
  }
 },
 "nbformat": 4,
 "nbformat_minor": 2
}
