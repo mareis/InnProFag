{
 "cells": [
  {
   "cell_type": "markdown",
   "metadata": {},
   "source": [
    "# 4.1 if-tester\n",
    "**Beslutninger**"
   ]
  },
  {
   "cell_type": "markdown",
   "metadata": {},
   "source": [
    "```python\n",
    "if <kriterum>:\n",
    "    <utfør noe>\n",
    "elif <et annet kriterium>:\n",
    "    <utfør noe annet>\n",
    "else:\n",
    "    <utfør enda noe annet>\n",
    "```"
   ]
  },
  {
   "cell_type": "markdown",
   "metadata": {},
   "source": [
    "<img src='innrykk.png' width=300px>"
   ]
  },
  {
   "cell_type": "markdown",
   "metadata": {},
   "source": [
    "#### Type 1 (if)\n",
    "```python\n",
    "if kriterium\n",
    "     <blokk med kode som utføres når kriterium==True>\n",
    "```"
   ]
  },
  {
   "cell_type": "code",
   "execution_count": 28,
   "metadata": {},
   "outputs": [
    {
     "name": "stdout",
     "output_type": "stream",
     "text": [
      "a er større enn 3\n"
     ]
    }
   ],
   "source": [
    "a = 3.00000001\n",
    "if a > 3:\n",
    "    print('a er større enn 3')\n"
   ]
  },
  {
   "cell_type": "markdown",
   "metadata": {},
   "source": [
    "#### Type 2 (if-else)\n",
    "```python\n",
    "if kriterium\n",
    "     <blokk med kode som utføres når kriterium==True>\n",
    "else:\n",
    "     <blokk med kode som utføres når kriterium==False>\n",
    "```"
   ]
  },
  {
   "cell_type": "code",
   "execution_count": 31,
   "metadata": {},
   "outputs": [
    {
     "name": "stdout",
     "output_type": "stream",
     "text": [
      "Du valgte riktig farge!\n"
     ]
    }
   ],
   "source": [
    "farge = 'gul'\n",
    "if farge == 'gul':\n",
    "    print('Du valgte riktig farge!')\n",
    "else:\n",
    "    print('Velg en ny farge.')"
   ]
  },
  {
   "cell_type": "markdown",
   "metadata": {},
   "source": [
    "#### Type 3 (if-elif-else)\n",
    "```python\n",
    "if kriterium1\n",
    "     <blokk med kode>\n",
    "elif kriterium2:\n",
    "     <blokk med kode>\n",
    "elif kriterium3:\n",
    "     <blokk med kode>\n",
    "else:\n",
    "     <blokk med kode>\n",
    "```"
   ]
  },
  {
   "cell_type": "markdown",
   "metadata": {},
   "source": [
    "#### Eksempel 1\n",
    "<img src='eksempel1.png' width='400px'>"
   ]
  },
  {
   "cell_type": "code",
   "execution_count": 35,
   "metadata": {},
   "outputs": [
    {
     "name": "stdout",
     "output_type": "stream",
     "text": [
      "0.5\n"
     ]
    }
   ],
   "source": [
    "# Løsning\n",
    "x = 1.5\n",
    "if x < 0:\n",
    "    print(0)\n",
    "elif 0 <= x < 1:\n",
    "    print(x)\n",
    "elif 1 <= x < 2:\n",
    "    print(2 - x)\n",
    "elif x >= 2:\n",
    "    print(0)"
   ]
  },
  {
   "cell_type": "code",
   "execution_count": 36,
   "metadata": {},
   "outputs": [
    {
     "name": "stdout",
     "output_type": "stream",
     "text": [
      "1\n"
     ]
    }
   ],
   "source": [
    "def N(x):\n",
    "    if x < 0:\n",
    "        return 0\n",
    "    elif 0 <= x < 1:\n",
    "        return x\n",
    "    elif 1 <= x < 2:\n",
    "        return 2 - x\n",
    "    elif x >= 2:\n",
    "        return 0\n",
    "print(N(1))"
   ]
  },
  {
   "cell_type": "markdown",
   "metadata": {},
   "source": [
    "### Boolske uttrykk"
   ]
  },
  {
   "cell_type": "code",
   "execution_count": 37,
   "metadata": {},
   "outputs": [],
   "source": [
    "a = 2\n",
    "b = 3"
   ]
  },
  {
   "cell_type": "code",
   "execution_count": 38,
   "metadata": {},
   "outputs": [
    {
     "data": {
      "text/plain": [
       "True"
      ]
     },
     "execution_count": 38,
     "metadata": {},
     "output_type": "execute_result"
    }
   ],
   "source": [
    "a < b"
   ]
  },
  {
   "cell_type": "code",
   "execution_count": 39,
   "metadata": {},
   "outputs": [
    {
     "data": {
      "text/plain": [
       "True"
      ]
     },
     "execution_count": 39,
     "metadata": {},
     "output_type": "execute_result"
    }
   ],
   "source": [
    "a <= b"
   ]
  },
  {
   "cell_type": "code",
   "execution_count": 40,
   "metadata": {},
   "outputs": [
    {
     "data": {
      "text/plain": [
       "False"
      ]
     },
     "execution_count": 40,
     "metadata": {},
     "output_type": "execute_result"
    }
   ],
   "source": [
    "a > b"
   ]
  },
  {
   "cell_type": "code",
   "execution_count": 41,
   "metadata": {},
   "outputs": [
    {
     "data": {
      "text/plain": [
       "False"
      ]
     },
     "execution_count": 41,
     "metadata": {},
     "output_type": "execute_result"
    }
   ],
   "source": [
    "a >= b"
   ]
  },
  {
   "cell_type": "code",
   "execution_count": 42,
   "metadata": {},
   "outputs": [
    {
     "data": {
      "text/plain": [
       "False"
      ]
     },
     "execution_count": 42,
     "metadata": {},
     "output_type": "execute_result"
    }
   ],
   "source": [
    "a == b"
   ]
  },
  {
   "cell_type": "code",
   "execution_count": 43,
   "metadata": {},
   "outputs": [
    {
     "data": {
      "text/plain": [
       "True"
      ]
     },
     "execution_count": 43,
     "metadata": {},
     "output_type": "execute_result"
    }
   ],
   "source": [
    "a != b"
   ]
  },
  {
   "cell_type": "code",
   "execution_count": 44,
   "metadata": {},
   "outputs": [
    {
     "data": {
      "text/plain": [
       "True"
      ]
     },
     "execution_count": 44,
     "metadata": {},
     "output_type": "execute_result"
    }
   ],
   "source": [
    "not(a == b)"
   ]
  },
  {
   "cell_type": "code",
   "execution_count": 47,
   "metadata": {},
   "outputs": [
    {
     "data": {
      "text/plain": [
       "True"
      ]
     },
     "execution_count": 47,
     "metadata": {},
     "output_type": "execute_result"
    }
   ],
   "source": [
    "1 < a <= 2"
   ]
  },
  {
   "cell_type": "code",
   "execution_count": 48,
   "metadata": {},
   "outputs": [
    {
     "data": {
      "text/plain": [
       "True"
      ]
     },
     "execution_count": 48,
     "metadata": {},
     "output_type": "execute_result"
    }
   ],
   "source": [
    "a == 3 or b == 3"
   ]
  },
  {
   "cell_type": "code",
   "execution_count": 50,
   "metadata": {},
   "outputs": [
    {
     "data": {
      "text/plain": [
       "True"
      ]
     },
     "execution_count": 50,
     "metadata": {},
     "output_type": "execute_result"
    }
   ],
   "source": [
    "a == 2 and b == 3"
   ]
  },
  {
   "cell_type": "code",
   "execution_count": 51,
   "metadata": {},
   "outputs": [
    {
     "data": {
      "text/plain": [
       "True"
      ]
     },
     "execution_count": 51,
     "metadata": {},
     "output_type": "execute_result"
    }
   ],
   "source": [
    "1 < a <= 2"
   ]
  },
  {
   "cell_type": "code",
   "execution_count": 52,
   "metadata": {},
   "outputs": [
    {
     "data": {
      "text/plain": [
       "True"
      ]
     },
     "execution_count": 52,
     "metadata": {},
     "output_type": "execute_result"
    }
   ],
   "source": [
    "1 < a and a <= 2"
   ]
  },
  {
   "cell_type": "markdown",
   "metadata": {},
   "source": [
    "#### Eksempel 2\n",
    "Lag et program som spør brukeren om hvor høyt norges høyeste fjell er. Skriv ut en kommentar som avhenger av om høyden er under eller over 2469moh. "
   ]
  },
  {
   "cell_type": "code",
   "execution_count": 54,
   "metadata": {},
   "outputs": [
    {
     "name": "stdin",
     "output_type": "stream",
     "text": [
      "Hvor høyt er norges høyeste fjell?  200\n"
     ]
    },
    {
     "name": "stdout",
     "output_type": "stream",
     "text": [
      "Du svarte feil.\n"
     ]
    }
   ],
   "source": [
    "# Løsning\n",
    "svar = int(input('Hvor høyt er norges høyeste fjell? '))\n",
    "if svar == 2469:\n",
    "    print('Det er riktig!')\n",
    "else:\n",
    "    print('Du svarte feil.')"
   ]
  },
  {
   "cell_type": "code",
   "execution_count": 56,
   "metadata": {},
   "outputs": [
    {
     "name": "stdin",
     "output_type": "stream",
     "text": [
      "Hvor høyt er norges høyeste fjell?  2450\n"
     ]
    },
    {
     "name": "stdout",
     "output_type": "stream",
     "text": [
      "Fjellet er høyere.\n"
     ]
    }
   ],
   "source": [
    "svar = int(input('Hvor høyt er norges høyeste fjell? '))\n",
    "if svar == 2469:\n",
    "    print('Det er riktig!')\n",
    "elif svar < 2469:\n",
    "    print('Fjellet er høyere.')\n",
    "elif svar > 2469:\n",
    "    print('Fjellet er lavere.')"
   ]
  },
  {
   "cell_type": "markdown",
   "metadata": {},
   "source": [
    "#### Underveisoppgave\n",
    "\n",
    "- $\n",
    "f(x)=\\begin{cases}\n",
    "    x^2 + 2, & x<1.\\\\\n",
    "    -2x + 5, & x\\geq1.\n",
    "  \\end{cases}\n",
    "$\n",
    "\n",
    "- Du må være mellom 163cm og 196cm for å kunne bli jagerflypilot. Lag et program som tester om en person kan bli jagerflypilot.\n",
    " "
   ]
  },
  {
   "cell_type": "code",
   "execution_count": null,
   "metadata": {},
   "outputs": [],
   "source": []
  }
 ],
 "metadata": {
  "kernelspec": {
   "display_name": "Python 3",
   "language": "python",
   "name": "python3"
  },
  "language_info": {
   "codemirror_mode": {
    "name": "ipython",
    "version": 3
   },
   "file_extension": ".py",
   "mimetype": "text/x-python",
   "name": "python",
   "nbconvert_exporter": "python",
   "pygments_lexer": "ipython3",
   "version": "3.6.6"
  }
 },
 "nbformat": 4,
 "nbformat_minor": 2
}
