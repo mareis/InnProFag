{
 "cells": [
  {
   "cell_type": "markdown",
   "metadata": {},
   "source": [
    "## Løkker\n",
    "\n",
    "\n",
    "**I programmering har vi ofte behov for å gjenta kode mange ganger. For å få til dette bruker man løkker. Løkker har mye til felles med tester, men med den forskjellen at i en løkke gjentas kode intill en betingelse er sann eller usann.**\n",
    "\n",
    "Det finnes to hovedtyper løkker - for-løkker og while-løkker:\n",
    "\n",
    "+ **for** - Gjentar kode et gitt antall ganger\n",
    "+ **while** - Gjentar kode sålenge en betingelse er sann\n",
    "\n",
    "### For-løkker\n",
    "\n",
    "I en for-løkke bestemmer vi hvor mange ganger en kode skal gjentas. Alt dette gjøres i deklarasjonen av løkka. Legg spesielt merke til kommandoen [_range()_](https://docs.python.org/3/library/stdtypes.html#range)."
   ]
  },
  {
   "cell_type": "code",
   "execution_count": 2,
   "metadata": {},
   "outputs": [
    {
     "name": "stdout",
     "output_type": "stream",
     "text": [
      "Tellevariabelen tall har nå verdien 0\n",
      "Tellevariabelen tall har nå verdien 1\n",
      "Tellevariabelen tall har nå verdien 2\n",
      "Tellevariabelen tall har nå verdien 3\n",
      "Tellevariabelen tall har nå verdien 4\n",
      "Tellevariabelen tall har nå verdien 5\n",
      "Tellevariabelen tall har nå verdien 6\n",
      "Tellevariabelen tall har nå verdien 7\n",
      "Tellevariabelen tall har nå verdien 8\n",
      "Tellevariabelen tall har nå verdien 9\n"
     ]
    }
   ],
   "source": [
    "for tall in range(10):\n",
    "    print(\"Tellevariabelen tall har nå verdien\", tall)"
   ]
  },
  {
   "cell_type": "markdown",
   "metadata": {},
   "source": [
    "### for in\n",
    "\n",
    "En annen variant av for-løkker er _for in_. Denne er veldig nyttig når man skal traversere alle elementene i en [liste](https://developers.google.com/edu/python/lists) eller andre kolleksjoner av variabler."
   ]
  },
  {
   "cell_type": "code",
   "execution_count": 2,
   "metadata": {},
   "outputs": [
    {
     "name": "stdout",
     "output_type": "stream",
     "text": [
      "Nå skriver vi ut: H\n",
      "Nå skriver vi ut: a\n",
      "Nå skriver vi ut: l\n",
      "Nå skriver vi ut: l\n",
      "Nå skriver vi ut: o\n",
      "Nå skriver vi ut:  \n",
      "Nå skriver vi ut: v\n",
      "Nå skriver vi ut: e\n",
      "Nå skriver vi ut: r\n",
      "Nå skriver vi ut: d\n",
      "Nå skriver vi ut: e\n",
      "Nå skriver vi ut: n\n",
      "Nå skriver vi ut: !\n"
     ]
    }
   ],
   "source": [
    "tekst = 'Hallo verden!'\n",
    "for tegn in tekst:\n",
    "    print(f'Nå skriver vi ut: {tegn}')"
   ]
  },
  {
   "cell_type": "code",
   "execution_count": 4,
   "metadata": {},
   "outputs": [
    {
     "name": "stdout",
     "output_type": "stream",
     "text": [
      "Hei Per hvordan går det med deg?\n",
      "Hei Pål hvordan går det med deg?\n",
      "Hei Espen hvordan går det med deg?\n"
     ]
    }
   ],
   "source": [
    "navneliste = ['Per', 'Pål', 'Espen']\n",
    "for navn in navneliste:\n",
    "    print(\"Hei\", navn, \"hvordan går det med deg?\")"
   ]
  },
  {
   "cell_type": "markdown",
   "metadata": {},
   "source": [
    "## While-løkker\n",
    "\n",
    "\n",
    "En [while-løkke](https://en.wikipedia.org/wiki/While_loop#Python) har veldig lik funksjonalitet som for-løkker. Forskjellen er at i en while-løkke så må tellevariabelen deklarereres på forhånd, og den må økes eller minkes manuelt inne i koden. Alt dette gjøres i deklarasjonen på en for-løkke.\n"
   ]
  },
  {
   "cell_type": "code",
   "execution_count": 4,
   "metadata": {},
   "outputs": [
    {
     "name": "stdout",
     "output_type": "stream",
     "text": [
      "Telleren har nå verdien: 0\n",
      "Telleren har nå verdien: 1\n",
      "Telleren har nå verdien: 2\n",
      "Telleren har nå verdien: 3\n",
      "Telleren har nå verdien: 4\n",
      "Telleren har nå verdien: 5\n",
      "Telleren har nå verdien: 6\n",
      "Telleren har nå verdien: 7\n",
      "Telleren har nå verdien: 8\n",
      "while-løkken er nå avsluttet\n"
     ]
    }
   ],
   "source": [
    "teller = 0\n",
    "while teller < 9:\n",
    "   print(\"Telleren har nå verdien:\", teller)\n",
    "   teller = teller + 1\n",
    "print(\"while-løkken er nå avsluttet\")"
   ]
  },
  {
   "cell_type": "markdown",
   "metadata": {},
   "source": [
    "## Oppgaver\n",
    "\n",
    "1. Lag en for-løkke som teller fra 0 til 20.\n",
    "2. Lag en for-løkke som teller fra 10 til 1.\n",
    "3. Lag en for-løkke som teller annenhvert tall fra 10 til 50.\n",
    "4. Lag et program der brukeren kan taste inn et tall. Programmet skriver så ut tallene fra 0 til det brukeren har tastet inn.\n",
    "5. Lag et program der brukeren kan taste inn et tall. Programmet skriver så ut _\"tallet er større enn 5\"_, _\"tallet er lik 5\"_ eller _\"tallet er mindre enn 5\"_ avhengig av hva slags tall brukeren tastet inn."
   ]
  },
  {
   "cell_type": "code",
   "execution_count": null,
   "metadata": {
    "collapsed": true
   },
   "outputs": [],
   "source": []
  }
 ],
 "metadata": {
  "kernelspec": {
   "display_name": "Python 3",
   "language": "python",
   "name": "python3"
  },
  "language_info": {
   "codemirror_mode": {
    "name": "ipython",
    "version": 3
   },
   "file_extension": ".py",
   "mimetype": "text/x-python",
   "name": "python",
   "nbconvert_exporter": "python",
   "pygments_lexer": "ipython3",
   "version": "3.6.6"
  }
 },
 "nbformat": 4,
 "nbformat_minor": 2
}
